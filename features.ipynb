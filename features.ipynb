{
 "cells": [
  {
   "cell_type": "code",
   "execution_count": 184,
   "metadata": {},
   "outputs": [],
   "source": [
    "import csv\n",
    "import pandas as pd\n",
    "import numpy as np\n",
    "import json\n",
    "from datetime import datetime\n",
    "import matplotlib.pyplot as plt\n",
    "import re\n",
    "import seaborn as sns\n",
    "import scipy.stats as stats\n",
    "import pytz"
   ]
  },
  {
   "cell_type": "markdown",
   "metadata": {},
   "source": [
    "# Загрузка и подготовка данных"
   ]
  },
  {
   "cell_type": "code",
   "execution_count": 185,
   "metadata": {},
   "outputs": [],
   "source": [
    "with open(\"by_repo_results.csv\", \"r\", encoding='utf-8') as f:\n",
    "  csvreader = csv.reader(f, delimiter=\";\")\n",
    "  headers = next(csvreader)\n",
    "  data = []\n",
    "  for row in csvreader:\n",
    "    if row[0].strip(): \n",
    "        company_name = row[0]\n",
    "        company_description = row[1]\n",
    "        data.append(row)\n",
    "    else:\n",
    "        row[0] = company_name\n",
    "        row[1] = company_description\n",
    "        data.append(row)\n",
    "\n",
    "repo_df = pd.DataFrame(data=data, columns=headers).dropna().reset_index().drop('index', axis=1)\n",
    "\n",
    "org_df = pd.read_csv(\"by_org_results.csv\", delimiter=\";\").dropna().reset_index().drop('index', axis=1)"
   ]
  },
  {
   "cell_type": "code",
   "execution_count": 186,
   "metadata": {},
   "outputs": [],
   "source": [
    "repo_df['repo_stars'] = pd.to_numeric(repo_df['repo_stars'], errors='coerce').fillna(0).astype(int)\n",
    "repo_df['repo_half_year_commits'] = pd.to_numeric(repo_df['repo_half_year_commits'], errors='coerce').fillna(0).astype(int)\n",
    "\n",
    "# преобразуем даты в datetime с временной зоной UTC\n",
    "repo_df['repo_last_commit_date'] = pd.to_datetime(\n",
    "    repo_df['repo_last_commit_date'],\n",
    "    format='%Y-%m-%dT%H:%M:%SZ',\n",
    "    errors='coerce',\n",
    "    utc=True\n",
    ")\n",
    "\n",
    "org_df['stars_count'] = org_df['stars_count'].astype(np.int32)\n",
    "\n",
    "today = pd.Timestamp(datetime.now(), tz=pytz.UTC)\n",
    "repo_df['days_since_last_commit'] = (today - repo_df['repo_last_commit_date']).dt.days"
   ]
  },
  {
   "cell_type": "markdown",
   "metadata": {},
   "source": [
    "# Создание новых признаков"
   ]
  },
  {
   "cell_type": "markdown",
   "metadata": {},
   "source": [
    "### Группировка по организациям"
   ]
  },
  {
   "cell_type": "code",
   "execution_count": 187,
   "metadata": {},
   "outputs": [],
   "source": [
    "grouped = repo_df.groupby(\"organization\").agg(\n",
    "    total_repos=(\"repo_name\", \"count\"),\n",
    "    mean_repo_stars=(\"repo_stars\", \"mean\"),\n",
    "    stars_count=(\"repo_stars\", \"sum\"),\n",
    "    active_repos=(\"repo_half_year_commits\", lambda x: (x > 0).sum()),\n",
    "    mean_half_year_commits=(\"repo_half_year_commits\", \"mean\"),\n",
    "    last_commit_days_ago_mean=(\"days_since_last_commit\", \"mean\"),\n",
    "    is_active=(\"days_since_last_commit\", lambda x: (x < 90).any()),\n",
    "    num_topics=(\"repo_topics\", lambda x: np.mean([len(eval(i)) if isinstance(i, str) else 0 for i in x])),\n",
    "    tag_density=(\"repo_topics\", lambda x: np.sum([len(eval(i)) if isinstance(i, str) else 0 for i in x]) / max(len(x), 1)),\n",
    "    topics_total=(\"repo_topics\", lambda x: np.sum([len(eval(i)) if isinstance(i, str) else 0 for i in x]))\n",
    ").reset_index()\n"
   ]
  },
  {
   "cell_type": "markdown",
   "metadata": {},
   "source": [
    "### Извлечение языков"
   ]
  },
  {
   "cell_type": "code",
   "execution_count": 188,
   "metadata": {},
   "outputs": [],
   "source": [
    "def extract_languages(lang_str):\n",
    "    try:\n",
    "        langs = eval(lang_str)\n",
    "        return [l.split(':')[0].strip() for l in langs]\n",
    "    except:\n",
    "        return []\n",
    "\n",
    "repo_df['parsed_languages'] = repo_df['repo_languages'].apply(extract_languages)\n",
    "\n",
    "lang_df = repo_df.explode(\"parsed_languages\").groupby(\"organization\")['parsed_languages'].agg(lambda x: set(x)).reset_index()\n",
    "lang_df['num_languages'] = lang_df['parsed_languages'].apply(len)"
   ]
  },
  {
   "cell_type": "markdown",
   "metadata": {},
   "source": [
    "### Объединение"
   ]
  },
  {
   "cell_type": "code",
   "execution_count": 189,
   "metadata": {},
   "outputs": [],
   "source": [
    "features_df = org_df.merge(grouped, on=\"organization\", how=\"left\")\n",
    "features_df = features_df.merge(lang_df, on=\"organization\", how=\"left\")\n",
    "\n",
    "features_df = features_df.drop('stars_count_x', axis=1)\n",
    "features_df = features_df.rename(columns={'stars_count_y': 'stars_count'})"
   ]
  },
  {
   "cell_type": "markdown",
   "metadata": {},
   "source": [
    "### Признаки на основе описания"
   ]
  },
  {
   "cell_type": "code",
   "execution_count": 190,
   "metadata": {},
   "outputs": [],
   "source": [
    "descriptions = repo_df.groupby('organization')['description'].first().reset_index()\n",
    "features_df = features_df.merge(descriptions, on='organization', how='left')\n",
    "\n",
    "features_df['description_length'] = features_df['description'].apply(lambda x: len(str(x)))\n",
    "features_df['has_description'] = features_df['description'].apply(lambda x: int(isinstance(x, str) and x.strip() != ''))\n"
   ]
  },
  {
   "cell_type": "markdown",
   "metadata": {},
   "source": [
    "### Дней с последнего коммита"
   ]
  },
  {
   "cell_type": "code",
   "execution_count": 191,
   "metadata": {},
   "outputs": [],
   "source": [
    "min_days_df = repo_df.groupby('organization')['days_since_last_commit'].min().reset_index()\n",
    "features_df = features_df.merge(min_days_df, on='organization', how='left')"
   ]
  },
  {
   "cell_type": "markdown",
   "metadata": {},
   "source": [
    "### Сводные признаки"
   ]
  },
  {
   "cell_type": "code",
   "execution_count": 192,
   "metadata": {},
   "outputs": [
    {
     "data": {
      "text/html": [
       "<div>\n",
       "<style scoped>\n",
       "    .dataframe tbody tr th:only-of-type {\n",
       "        vertical-align: middle;\n",
       "    }\n",
       "\n",
       "    .dataframe tbody tr th {\n",
       "        vertical-align: top;\n",
       "    }\n",
       "\n",
       "    .dataframe thead th {\n",
       "        text-align: right;\n",
       "    }\n",
       "</style>\n",
       "<table border=\"1\" class=\"dataframe\">\n",
       "  <thead>\n",
       "    <tr style=\"text-align: right;\">\n",
       "      <th></th>\n",
       "      <th>organization</th>\n",
       "      <th>top 3 repo</th>\n",
       "      <th>languages</th>\n",
       "      <th>ros_repos</th>\n",
       "      <th>name_parts</th>\n",
       "      <th>total_repos</th>\n",
       "      <th>mean_repo_stars</th>\n",
       "      <th>stars_count</th>\n",
       "      <th>active_repos</th>\n",
       "      <th>mean_half_year_commits</th>\n",
       "      <th>...</th>\n",
       "      <th>num_languages</th>\n",
       "      <th>description</th>\n",
       "      <th>description_length</th>\n",
       "      <th>has_description</th>\n",
       "      <th>days_since_last_commit</th>\n",
       "      <th>avg_commits_per_month</th>\n",
       "      <th>recent_commit_score</th>\n",
       "      <th>activity_score</th>\n",
       "      <th>description_density</th>\n",
       "      <th>topics_per_language</th>\n",
       "    </tr>\n",
       "  </thead>\n",
       "  <tbody>\n",
       "    <tr>\n",
       "      <th>0</th>\n",
       "      <td>ros-acceleration</td>\n",
       "      <td>['robotic_processing_unit', 'community', 'acce...</td>\n",
       "      <td>['Cuda', 'Python', 'C++', 'Tcl', 'C', 'CMake']</td>\n",
       "      <td>['ros2_kria', 'isaac_ros_image_pipeline']</td>\n",
       "      <td>['community', 'ament', 'vitis', 'acceleration'...</td>\n",
       "      <td>20.0</td>\n",
       "      <td>15.650000</td>\n",
       "      <td>313.0</td>\n",
       "      <td>1.0</td>\n",
       "      <td>0.100000</td>\n",
       "      <td>...</td>\n",
       "      <td>5.0</td>\n",
       "      <td>Drive creation, maintenance and testing of har...</td>\n",
       "      <td>86</td>\n",
       "      <td>1</td>\n",
       "      <td>150.0</td>\n",
       "      <td>0.016667</td>\n",
       "      <td>0.006623</td>\n",
       "      <td>0.000110</td>\n",
       "      <td>14.333333</td>\n",
       "      <td>15.00000</td>\n",
       "    </tr>\n",
       "    <tr>\n",
       "      <th>1</th>\n",
       "      <td>Aceinna</td>\n",
       "      <td>['gnss-ins-sim', 'python-openimu', 'platform-a...</td>\n",
       "      <td>['JavaScript', 'Shell', 'MATLAB', 'M', 'Python...</td>\n",
       "      <td>['aceinna_openrtk_ros_driver']</td>\n",
       "      <td>['platform', 'aceinna_imu', 'python', 'imu380'...</td>\n",
       "      <td>33.0</td>\n",
       "      <td>45.272727</td>\n",
       "      <td>1494.0</td>\n",
       "      <td>2.0</td>\n",
       "      <td>0.121212</td>\n",
       "      <td>...</td>\n",
       "      <td>6.0</td>\n",
       "      <td>Open-source Inertial Navigation, GPS/INS, AHRS...</td>\n",
       "      <td>106</td>\n",
       "      <td>1</td>\n",
       "      <td>166.0</td>\n",
       "      <td>0.020202</td>\n",
       "      <td>0.005988</td>\n",
       "      <td>0.000121</td>\n",
       "      <td>15.142857</td>\n",
       "      <td>1.00000</td>\n",
       "    </tr>\n",
       "    <tr>\n",
       "      <th>2</th>\n",
       "      <td>Accenture</td>\n",
       "      <td>['adop-docker-compose', 'Ocaramba', 'adop-jenk...</td>\n",
       "      <td>['PowerShell', 'JavaScript', 'Thrift', 'R', 'C...</td>\n",
       "      <td>[]</td>\n",
       "      <td>['mahout', 'timeseriesr', 'environment', 'dash...</td>\n",
       "      <td>211.0</td>\n",
       "      <td>42.890995</td>\n",
       "      <td>9050.0</td>\n",
       "      <td>32.0</td>\n",
       "      <td>3.530806</td>\n",
       "      <td>...</td>\n",
       "      <td>31.0</td>\n",
       "      <td>Accenture Github site</td>\n",
       "      <td>21</td>\n",
       "      <td>1</td>\n",
       "      <td>81.0</td>\n",
       "      <td>0.588468</td>\n",
       "      <td>0.012195</td>\n",
       "      <td>0.007176</td>\n",
       "      <td>0.656250</td>\n",
       "      <td>8.53125</td>\n",
       "    </tr>\n",
       "    <tr>\n",
       "      <th>3</th>\n",
       "      <td>accerion</td>\n",
       "      <td>['gazebo_ros_2d_map_plugin', 'librover', 'pepp...</td>\n",
       "      <td>['Shell', 'Julia', 'Python', 'C++', 'CMake', '...</td>\n",
       "      <td>['gazebo_ros_2d_map_plugin']</td>\n",
       "      <td>['gazebo', 'ros', '2d', 'map', 'plugin', 'libr...</td>\n",
       "      <td>5.0</td>\n",
       "      <td>0.000000</td>\n",
       "      <td>0.0</td>\n",
       "      <td>1.0</td>\n",
       "      <td>0.400000</td>\n",
       "      <td>...</td>\n",
       "      <td>3.0</td>\n",
       "      <td></td>\n",
       "      <td>0</td>\n",
       "      <td>0</td>\n",
       "      <td>151.0</td>\n",
       "      <td>0.066667</td>\n",
       "      <td>0.006579</td>\n",
       "      <td>0.000439</td>\n",
       "      <td>0.000000</td>\n",
       "      <td>0.00000</td>\n",
       "    </tr>\n",
       "  </tbody>\n",
       "</table>\n",
       "<p>4 rows × 26 columns</p>\n",
       "</div>"
      ],
      "text/plain": [
       "       organization                                         top 3 repo  \\\n",
       "0  ros-acceleration  ['robotic_processing_unit', 'community', 'acce...   \n",
       "1           Aceinna  ['gnss-ins-sim', 'python-openimu', 'platform-a...   \n",
       "2         Accenture  ['adop-docker-compose', 'Ocaramba', 'adop-jenk...   \n",
       "3          accerion  ['gazebo_ros_2d_map_plugin', 'librover', 'pepp...   \n",
       "\n",
       "                                           languages  \\\n",
       "0     ['Cuda', 'Python', 'C++', 'Tcl', 'C', 'CMake']   \n",
       "1  ['JavaScript', 'Shell', 'MATLAB', 'M', 'Python...   \n",
       "2  ['PowerShell', 'JavaScript', 'Thrift', 'R', 'C...   \n",
       "3  ['Shell', 'Julia', 'Python', 'C++', 'CMake', '...   \n",
       "\n",
       "                                   ros_repos  \\\n",
       "0  ['ros2_kria', 'isaac_ros_image_pipeline']   \n",
       "1             ['aceinna_openrtk_ros_driver']   \n",
       "2                                         []   \n",
       "3               ['gazebo_ros_2d_map_plugin']   \n",
       "\n",
       "                                          name_parts  total_repos  \\\n",
       "0  ['community', 'ament', 'vitis', 'acceleration'...         20.0   \n",
       "1  ['platform', 'aceinna_imu', 'python', 'imu380'...         33.0   \n",
       "2  ['mahout', 'timeseriesr', 'environment', 'dash...        211.0   \n",
       "3  ['gazebo', 'ros', '2d', 'map', 'plugin', 'libr...          5.0   \n",
       "\n",
       "   mean_repo_stars  stars_count  active_repos  mean_half_year_commits  ...  \\\n",
       "0        15.650000        313.0           1.0                0.100000  ...   \n",
       "1        45.272727       1494.0           2.0                0.121212  ...   \n",
       "2        42.890995       9050.0          32.0                3.530806  ...   \n",
       "3         0.000000          0.0           1.0                0.400000  ...   \n",
       "\n",
       "   num_languages                                        description  \\\n",
       "0            5.0  Drive creation, maintenance and testing of har...   \n",
       "1            6.0  Open-source Inertial Navigation, GPS/INS, AHRS...   \n",
       "2           31.0                              Accenture Github site   \n",
       "3            3.0                                                      \n",
       "\n",
       "   description_length  has_description  days_since_last_commit  \\\n",
       "0                  86                1                   150.0   \n",
       "1                 106                1                   166.0   \n",
       "2                  21                1                    81.0   \n",
       "3                   0                0                   151.0   \n",
       "\n",
       "  avg_commits_per_month  recent_commit_score activity_score  \\\n",
       "0              0.016667             0.006623       0.000110   \n",
       "1              0.020202             0.005988       0.000121   \n",
       "2              0.588468             0.012195       0.007176   \n",
       "3              0.066667             0.006579       0.000439   \n",
       "\n",
       "   description_density  topics_per_language  \n",
       "0            14.333333             15.00000  \n",
       "1            15.142857              1.00000  \n",
       "2             0.656250              8.53125  \n",
       "3             0.000000              0.00000  \n",
       "\n",
       "[4 rows x 26 columns]"
      ]
     },
     "execution_count": 192,
     "metadata": {},
     "output_type": "execute_result"
    }
   ],
   "source": [
    "features_df['avg_commits_per_month'] = features_df['mean_half_year_commits'] / 6\n",
    "features_df['recent_commit_score'] = 1 / (features_df['days_since_last_commit'] + 1)\n",
    "features_df['activity_score'] = features_df['avg_commits_per_month'] * features_df['recent_commit_score']\n",
    "features_df['description_density'] = features_df['description_length'] / (features_df['num_languages'] + 1)\n",
    "features_df['topics_per_language'] = features_df['topics_total'] / (features_df['num_languages'] + 1)\n",
    "\n",
    "features_df.head(4)"
   ]
  },
  {
   "cell_type": "markdown",
   "metadata": {},
   "source": [
    "### Очистка и сохранение"
   ]
  },
  {
   "cell_type": "code",
   "execution_count": 193,
   "metadata": {},
   "outputs": [],
   "source": [
    "features_df.dropna().reset_index().drop('index', axis=1).to_csv(\"features_for_classification.csv\", index=False)"
   ]
  }
 ],
 "metadata": {
  "kernelspec": {
   "display_name": "Python 3",
   "language": "python",
   "name": "python3"
  },
  "language_info": {
   "codemirror_mode": {
    "name": "ipython",
    "version": 3
   },
   "file_extension": ".py",
   "mimetype": "text/x-python",
   "name": "python",
   "nbconvert_exporter": "python",
   "pygments_lexer": "ipython3",
   "version": "3.11.9"
  }
 },
 "nbformat": 4,
 "nbformat_minor": 2
}
